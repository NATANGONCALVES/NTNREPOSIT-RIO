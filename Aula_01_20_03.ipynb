{
  "nbformat": 4,
  "nbformat_minor": 0,
  "metadata": {
    "colab": {
      "provenance": [],
      "authorship_tag": "ABX9TyNVYenxfDbXnO5HWFZaK3DK",
      "include_colab_link": true
    },
    "kernelspec": {
      "name": "python3",
      "display_name": "Python 3"
    },
    "language_info": {
      "name": "python"
    }
  },
  "cells": [
    {
      "cell_type": "markdown",
      "metadata": {
        "id": "view-in-github",
        "colab_type": "text"
      },
      "source": [
        "<a href=\"https://colab.research.google.com/github/NATANGONCALVES/NTNREPOSIT-RIO/blob/main/Aula_01_20_03.ipynb\" target=\"_parent\"><img src=\"https://colab.research.google.com/assets/colab-badge.svg\" alt=\"Open In Colab\"/></a>"
      ]
    },
    {
      "cell_type": "code",
      "execution_count": null,
      "metadata": {
        "id": "vpwPcTdbuihK"
      },
      "outputs": [],
      "source": [
        "height = 1.79\n",
        "weight = 68.7"
      ]
    },
    {
      "cell_type": "code",
      "source": [
        "height"
      ],
      "metadata": {
        "colab": {
          "base_uri": "https://localhost:8080/"
        },
        "id": "XZXjS5J0yXnN",
        "outputId": "3db0f77a-5844-4626-f746-0d9d975f9bf4"
      },
      "execution_count": null,
      "outputs": [
        {
          "output_type": "execute_result",
          "data": {
            "text/plain": [
              "1.79"
            ]
          },
          "metadata": {},
          "execution_count": 3
        }
      ]
    },
    {
      "cell_type": "code",
      "source": [
        "68.7 / 1.79 ** 2"
      ],
      "metadata": {
        "colab": {
          "base_uri": "https://localhost:8080/"
        },
        "id": "hBQG3xbkzMke",
        "outputId": "44300de9-8b62-4db7-a413-a9d9f111e74f"
      },
      "execution_count": null,
      "outputs": [
        {
          "output_type": "execute_result",
          "data": {
            "text/plain": [
              "21.44127836209856"
            ]
          },
          "metadata": {},
          "execution_count": 4
        }
      ]
    },
    {
      "cell_type": "code",
      "source": [
        "weight / height **2"
      ],
      "metadata": {
        "colab": {
          "base_uri": "https://localhost:8080/"
        },
        "id": "kVp4EuONzhhu",
        "outputId": "095fd2e2-6066-4848-e4d6-33213c84a225"
      },
      "execution_count": null,
      "outputs": [
        {
          "output_type": "execute_result",
          "data": {
            "text/plain": [
              "21.44127836209856"
            ]
          },
          "metadata": {},
          "execution_count": 5
        }
      ]
    },
    {
      "cell_type": "code",
      "source": [
        "bmi = weight / height ** 2\n",
        "bmi"
      ],
      "metadata": {
        "colab": {
          "base_uri": "https://localhost:8080/"
        },
        "id": "BHa-XUp-zqom",
        "outputId": "0d46f141-3253-44e8-e6ec-9a5e750ed666"
      },
      "execution_count": null,
      "outputs": [
        {
          "output_type": "execute_result",
          "data": {
            "text/plain": [
              "21.44127836209856"
            ]
          },
          "metadata": {},
          "execution_count": 9
        }
      ]
    },
    {
      "cell_type": "code",
      "source": [
        "bmi = weight / height ** 2\n",
        "bmi\n",
        "print(bmi)"
      ],
      "metadata": {
        "colab": {
          "base_uri": "https://localhost:8080/"
        },
        "id": "mUu8Ls8J1iqg",
        "outputId": "17d2a56b-d741-4b77-81fc-ff7304ce5964"
      },
      "execution_count": null,
      "outputs": [
        {
          "output_type": "stream",
          "name": "stdout",
          "text": [
            "21.44127836209856\n"
          ]
        }
      ]
    },
    {
      "cell_type": "code",
      "source": [
        "type(bmi)"
      ],
      "metadata": {
        "colab": {
          "base_uri": "https://localhost:8080/"
        },
        "id": "N4xZv6xi2hx3",
        "outputId": "44b93d7e-31fc-4084-cd4e-fe68adcad675"
      },
      "execution_count": null,
      "outputs": [
        {
          "output_type": "execute_result",
          "data": {
            "text/plain": [
              "float"
            ]
          },
          "metadata": {},
          "execution_count": 13
        }
      ]
    },
    {
      "cell_type": "code",
      "source": [
        "day_of_week = 5\n",
        "type(day_of_week)"
      ],
      "metadata": {
        "colab": {
          "base_uri": "https://localhost:8080/"
        },
        "id": "5cskpIO62oe3",
        "outputId": "8937a036-aa57-4c59-b0f3-4cf6e9aab13e"
      },
      "execution_count": null,
      "outputs": [
        {
          "output_type": "execute_result",
          "data": {
            "text/plain": [
              "int"
            ]
          },
          "metadata": {},
          "execution_count": 12
        }
      ]
    },
    {
      "cell_type": "code",
      "source": [
        "x = \"body wass index\"\n",
        "y = 'this works too'\n",
        "type(y)"
      ],
      "metadata": {
        "colab": {
          "base_uri": "https://localhost:8080/"
        },
        "id": "Mzj1NGao3O83",
        "outputId": "6e045176-ea22-4c29-fd13-5371db31cb9a"
      },
      "execution_count": null,
      "outputs": [
        {
          "output_type": "execute_result",
          "data": {
            "text/plain": [
              "str"
            ]
          },
          "metadata": {},
          "execution_count": 14
        }
      ]
    },
    {
      "cell_type": "code",
      "source": [
        "z = True\n",
        "type(z)"
      ],
      "metadata": {
        "colab": {
          "base_uri": "https://localhost:8080/"
        },
        "id": "uch1fkQB3jZH",
        "outputId": "7c8ec6de-50a1-4486-fdac-5c3c96575c97"
      },
      "execution_count": null,
      "outputs": [
        {
          "output_type": "execute_result",
          "data": {
            "text/plain": [
              "bool"
            ]
          },
          "metadata": {},
          "execution_count": 15
        }
      ]
    },
    {
      "cell_type": "code",
      "source": [
        "x = 'natan'\n",
        "y = 'shits'\n",
        "print (x+y)\n"
      ],
      "metadata": {
        "colab": {
          "base_uri": "https://localhost:8080/"
        },
        "id": "rnU261nU4KqQ",
        "outputId": "933afc68-c0f4-4539-8847-23fc8c5c2861"
      },
      "execution_count": null,
      "outputs": [
        {
          "output_type": "stream",
          "name": "stdout",
          "text": [
            "natanshits\n"
          ]
        }
      ]
    },
    {
      "cell_type": "code",
      "source": [
        "x = '2'\n",
        "y = 'irmaos'\n",
        "x+y"
      ],
      "metadata": {
        "colab": {
          "base_uri": "https://localhost:8080/",
          "height": 35
        },
        "id": "jMn2Jhhz6Xv5",
        "outputId": "d3da2d73-7ba1-42b7-c557-e16a19eb53d7"
      },
      "execution_count": null,
      "outputs": [
        {
          "output_type": "execute_result",
          "data": {
            "text/plain": [
              "'2irmaos'"
            ],
            "application/vnd.google.colaboratory.intrinsic+json": {
              "type": "string"
            }
          },
          "metadata": {},
          "execution_count": 21
        }
      ]
    },
    {
      "cell_type": "code",
      "source": [
        "#Exemplo\n",
        "print(5/8)\n"
      ],
      "metadata": {
        "colab": {
          "base_uri": "https://localhost:8080/"
        },
        "id": "T7cFjNTT6pjR",
        "outputId": "d4451d1b-4a7a-4ba2-94b2-17ab98d22d86"
      },
      "execution_count": null,
      "outputs": [
        {
          "output_type": "stream",
          "name": "stdout",
          "text": [
            "0.625\n"
          ]
        }
      ]
    },
    {
      "cell_type": "code",
      "source": [
        "print (5+8)\n",
        "#realização da soma\n"
      ],
      "metadata": {
        "colab": {
          "base_uri": "https://localhost:8080/"
        },
        "id": "WRUVR52J69ZJ",
        "outputId": "a3a21a12-661b-4ac8-8016-ed49271e5f64"
      },
      "execution_count": null,
      "outputs": [
        {
          "output_type": "stream",
          "name": "stdout",
          "text": [
            "13\n"
          ]
        }
      ]
    },
    {
      "cell_type": "code",
      "source": [
        "print(5+3)\n",
        "print(5-3)"
      ],
      "metadata": {
        "colab": {
          "base_uri": "https://localhost:8080/"
        },
        "id": "9UgFxTa570e5",
        "outputId": "46a354f7-e6f0-4e71-8ac0-aebb9873b7bd"
      },
      "execution_count": null,
      "outputs": [
        {
          "output_type": "stream",
          "name": "stdout",
          "text": [
            "8\n",
            "2\n"
          ]
        }
      ]
    },
    {
      "cell_type": "code",
      "source": [
        "print(5**3)\n",
        "print(5*3)\n",
        "print(5%3)\n"
      ],
      "metadata": {
        "colab": {
          "base_uri": "https://localhost:8080/"
        },
        "id": "FUyADbme8uca",
        "outputId": "26ba3c21-5419-4005-9154-b230264b6f2c"
      },
      "execution_count": null,
      "outputs": [
        {
          "output_type": "stream",
          "name": "stdout",
          "text": [
            "125\n",
            "15\n",
            "2\n"
          ]
        }
      ]
    },
    {
      "cell_type": "code",
      "source": [
        "print(100*1.1**7)"
      ],
      "metadata": {
        "id": "CPDI5QdR9EjR",
        "colab": {
          "base_uri": "https://localhost:8080/"
        },
        "outputId": "cf8db734-2f6c-4012-f295-26422860e279"
      },
      "execution_count": null,
      "outputs": [
        {
          "output_type": "stream",
          "name": "stdout",
          "text": [
            "194.87171000000012\n"
          ]
        }
      ]
    },
    {
      "cell_type": "code",
      "source": [
        "saving = 100\n",
        "growth_multiplier = 1.1\n",
        "desc = \"compound interest\"\n",
        "growth_multiplier*saving\n",
        "year1 = growth_multiplier*saving\n",
        "print(type(year1))\n",
        "doubledesc=desc+desc\n",
        "print(doubledesc)"
      ],
      "metadata": {
        "colab": {
          "base_uri": "https://localhost:8080/"
        },
        "id": "actY2mLnVv22",
        "outputId": "d5404f3e-2da0-4fb8-9e99-f3d3295c813b"
      },
      "execution_count": null,
      "outputs": [
        {
          "output_type": "stream",
          "name": "stdout",
          "text": [
            "<class 'float'>\n",
            "compound interestcompound interest\n"
          ]
        }
      ]
    },
    {
      "cell_type": "code",
      "source": [
        "pi_string = \"3.1415926\"\n",
        "pi_float = float(pi_string)\n",
        "print(pi_float)\n",
        "print(type(pi_float))\n",
        "print(type(pi_string))"
      ],
      "metadata": {
        "colab": {
          "base_uri": "https://localhost:8080/"
        },
        "id": "3rk-hzk1aB_A",
        "outputId": "26647d85-4aab-4ac9-9c34-cc7cda61fad7"
      },
      "execution_count": null,
      "outputs": [
        {
          "output_type": "stream",
          "name": "stdout",
          "text": [
            "3.1415926\n",
            "<class 'float'>\n",
            "<class 'str'>\n"
          ]
        }
      ]
    },
    {
      "cell_type": "code",
      "source": [
        "savings = 100\n",
        "result = 100*1.10**7\n",
        "print(\"i started with $\" + savings + \"and now here $\" + result + \"awesome!\")\n",
        "#mistura de números e palavras\n"
      ],
      "metadata": {
        "colab": {
          "base_uri": "https://localhost:8080/",
          "height": 223
        },
        "id": "fB-1POOebwqo",
        "outputId": "cb24bffe-b225-4913-8bfa-80fc063e87ba"
      },
      "execution_count": null,
      "outputs": [
        {
          "output_type": "error",
          "ename": "TypeError",
          "evalue": "ignored",
          "traceback": [
            "\u001b[0;31m---------------------------------------------------------------------------\u001b[0m",
            "\u001b[0;31mTypeError\u001b[0m                                 Traceback (most recent call last)",
            "\u001b[0;32m<ipython-input-19-6b28b136d6c0>\u001b[0m in \u001b[0;36m<module>\u001b[0;34m\u001b[0m\n\u001b[1;32m      1\u001b[0m \u001b[0msavings\u001b[0m \u001b[0;34m=\u001b[0m \u001b[0;36m100\u001b[0m\u001b[0;34m\u001b[0m\u001b[0;34m\u001b[0m\u001b[0m\n\u001b[1;32m      2\u001b[0m \u001b[0mresult\u001b[0m \u001b[0;34m=\u001b[0m \u001b[0;36m100\u001b[0m\u001b[0;34m*\u001b[0m\u001b[0;36m1.10\u001b[0m\u001b[0;34m**\u001b[0m\u001b[0;36m7\u001b[0m\u001b[0;34m\u001b[0m\u001b[0;34m\u001b[0m\u001b[0m\n\u001b[0;32m----> 3\u001b[0;31m \u001b[0mprint\u001b[0m\u001b[0;34m(\u001b[0m\u001b[0;34m\"i started with $\"\u001b[0m \u001b[0;34m+\u001b[0m \u001b[0msavings\u001b[0m \u001b[0;34m+\u001b[0m \u001b[0;34m\"and now here $\"\u001b[0m \u001b[0;34m+\u001b[0m \u001b[0mresult\u001b[0m \u001b[0;34m+\u001b[0m \u001b[0;34m\"awesome!\"\u001b[0m\u001b[0;34m)\u001b[0m\u001b[0;34m\u001b[0m\u001b[0;34m\u001b[0m\u001b[0m\n\u001b[0m\u001b[1;32m      4\u001b[0m \u001b[0;31m#mistura de números e palavras\u001b[0m\u001b[0;34m\u001b[0m\u001b[0;34m\u001b[0m\u001b[0m\n",
            "\u001b[0;31mTypeError\u001b[0m: can only concatenate str (not \"int\") to str"
          ]
        }
      ]
    },
    {
      "cell_type": "code",
      "source": [
        "savings =100\n",
        "result = 100*1.10**7\n",
        "print(\"i started with $\" + str(savings) + \"and now here $\" + str(result) + \"awesome!\")\n",
        "\n"
      ],
      "metadata": {
        "colab": {
          "base_uri": "https://localhost:8080/"
        },
        "id": "dzR9xTg7d0H-",
        "outputId": "f99fd07f-9d87-455f-da15-5f66ae6307f2"
      },
      "execution_count": null,
      "outputs": [
        {
          "output_type": "stream",
          "name": "stdout",
          "text": [
            "i started with $100and now here $194.87171000000012awesome!\n"
          ]
        }
      ]
    },
    {
      "cell_type": "code",
      "source": [],
      "metadata": {
        "colab": {
          "base_uri": "https://localhost:8080/"
        },
        "id": "ujL-YoRhgYR-",
        "outputId": "c062ffc6-4e0d-44ad-a3a2-f5f1775815de"
      },
      "execution_count": null,
      "outputs": [
        {
          "output_type": "stream",
          "name": "stdout",
          "text": [
            "i started with $\n"
          ]
        },
        {
          "output_type": "execute_result",
          "data": {
            "text/plain": [
              "(None, 100, 'and now here $', 194.87171000000012, 'awesome!')"
            ]
          },
          "metadata": {},
          "execution_count": 18
        }
      ]
    },
    {
      "cell_type": "code",
      "source": [
        "savings = 100\n",
        "result = 100*1.10**7\n",
        "print(\"i started with $\" , savings , \"and now here $\" , result , \"awesome!\")"
      ],
      "metadata": {
        "colab": {
          "base_uri": "https://localhost:8080/"
        },
        "id": "OfdhBOrfhYZB",
        "outputId": "07e13c15-2427-49ca-be32-71b682970539"
      },
      "execution_count": null,
      "outputs": [
        {
          "output_type": "stream",
          "name": "stdout",
          "text": [
            "i started with $ 100 and now here $ 194.87171000000012 awesome!\n"
          ]
        }
      ]
    }
  ]
}